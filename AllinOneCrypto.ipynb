{
 "cells": [
  {
   "cell_type": "code",
   "execution_count": 1,
   "metadata": {},
   "outputs": [],
   "source": [
    "from random import randrange, getrandbits"
   ]
  },
  {
   "cell_type": "code",
   "execution_count": 116,
   "metadata": {},
   "outputs": [],
   "source": [
    "def is_prime(n, k=128):  # перевірка на простоту: імовірносний тест Мілера-Рабіна\n",
    "    if n == 2 or n == 3: # <3 прості числа\n",
    "        return True\n",
    "    if n <= 1 or n % 2 == 0: #відкидаємо від'ємні та парні\n",
    "        return False\n",
    "    s = 0\n",
    "    r = n - 1\n",
    "    while r & 1 == 0: #зменшуємо вдвійчи r доти, доки воно не стане непарним числом\n",
    "        s += 1\n",
    "        r //= 2\n",
    "    for _ in range(k): #k разів виконуємо перевірку Мілера-Рабіна\n",
    "        a = randrange(2, n - 1)\n",
    "        x = pow(a, r, n)\n",
    "        if x != 1 and x != n - 1: \n",
    "            j = 1\n",
    "            while j < s and x != n - 1:\n",
    "                x = pow(x, 2, n)\n",
    "                if x == 1: #умова заперечення простоти\n",
    "                    return False\n",
    "                j += 1\n",
    "            if x != n - 1:\n",
    "                return False\n",
    "    return True"
   ]
  },
  {
   "cell_type": "code",
   "execution_count": 117,
   "metadata": {},
   "outputs": [],
   "source": [
    "def generate_prime_candidate(length):  # генеруємо кандидата на просте число із заданою довжиною\n",
    "    p = getrandbits(length)\n",
    "    p |= (1 << length - 1) | 1 #прибираємо нулі з початку\n",
    "    return p"
   ]
  },
  {
   "cell_type": "code",
   "execution_count": 118,
   "metadata": {},
   "outputs": [],
   "source": [
    "def generate_prime_number(length=1024):  # генеруємо просте число із заданою довжиною\n",
    "    p = 4\n",
    "    while not is_prime(p, 5):\n",
    "        p = generate_prime_candidate(length)\n",
    "    return p"
   ]
  },
  {
   "cell_type": "code",
   "execution_count": 119,
   "metadata": {},
   "outputs": [
    {
     "data": {
      "text/plain": [
       "766066332529003612484219478881"
      ]
     },
     "execution_count": 119,
     "metadata": {},
     "output_type": "execute_result"
    }
   ],
   "source": [
    "generate_prime_number(100)"
   ]
  },
  {
   "cell_type": "code",
   "execution_count": 120,
   "metadata": {},
   "outputs": [],
   "source": [
    "def pow_mod(x, y, m):  #обчислення (x ^ y) mod m\n",
    "    binary = bin(y)[2:] #y - в бінарний\n",
    "    x0 = x % m\n",
    "    if binary[-1] == \"1\":\n",
    "        c = x\n",
    "    else:\n",
    "        c = 1\n",
    "    for i in range(len(binary) - 1):\n",
    "        x1 = x0 ** 2 % m\n",
    "        if binary[-i - 2] == \"1\":\n",
    "            c = c * x1 % m\n",
    "        x0 = x1\n",
    "    return c"
   ]
  },
  {
   "cell_type": "code",
   "execution_count": 121,
   "metadata": {},
   "outputs": [
    {
     "data": {
      "text/plain": [
       "5"
      ]
     },
     "execution_count": 121,
     "metadata": {},
     "output_type": "execute_result"
    }
   ],
   "source": [
    "pow_mod(5,2,20)"
   ]
  },
  {
   "cell_type": "code",
   "execution_count": 122,
   "metadata": {},
   "outputs": [],
   "source": [
    "def convert_to_cipher(m_str):  #перетворення числового повідомлення на текстове\n",
    "    m_int = 0\n",
    "    for ch in m_str[::-1]:\n",
    "        m_int = m_int * 1000 + ord(ch)\n",
    "    return m_int"
   ]
  },
  {
   "cell_type": "code",
   "execution_count": 123,
   "metadata": {},
   "outputs": [
    {
     "name": "stdout",
     "output_type": "stream",
     "text": [
      "111108108101072\n"
     ]
    }
   ],
   "source": [
    "x = convert_to_cipher(\"Hello\")\n",
    "print(x)"
   ]
  },
  {
   "cell_type": "code",
   "execution_count": 124,
   "metadata": {},
   "outputs": [],
   "source": [
    "def convert_to_string(m_int):  #перетворення текстового повідомлення на числове\n",
    "    m_str = \"\" \n",
    "    copy = m_int\n",
    "    while copy != 0:\n",
    "        copy, val = divmod(copy, 1000)\n",
    "        m_str += chr(val)\n",
    "    return m_str"
   ]
  },
  {
   "cell_type": "code",
   "execution_count": 125,
   "metadata": {},
   "outputs": [
    {
     "data": {
      "text/plain": [
       "'Hello'"
      ]
     },
     "execution_count": 125,
     "metadata": {},
     "output_type": "execute_result"
    }
   ],
   "source": [
    "convert_to_string(x)"
   ]
  },
  {
   "cell_type": "code",
   "execution_count": 126,
   "metadata": {},
   "outputs": [],
   "source": [
    "def ExtendedEuclid(x, y):  #розширений алгоритм Евкліда\n",
    "    x0, x1, y0, y1 = 1, 0, 0, 1\n",
    "    while y > 0:\n",
    "        q, x, y = int(x // y), y, x % y\n",
    "        x0, x1 = x1, x0 - q * x1\n",
    "        y0, y1 = y1, y0 - q * y1\n",
    "    return y0  #вихідний коефіціент"
   ]
  },
  {
   "cell_type": "code",
   "execution_count": 127,
   "metadata": {},
   "outputs": [],
   "source": [
    "def ext_eucl_pos(F, e):  # розв'язання (d * e) mod F = 1\n",
    "    d = ExtendedEuclid(F, e)\n",
    "    if d < 0:\n",
    "        return d + F\n",
    "    return d"
   ]
  },
  {
   "cell_type": "code",
   "execution_count": 128,
   "metadata": {},
   "outputs": [],
   "source": [
    "def gcd(x, y): #НСД(х,у)\n",
    "    a, q0 = x, y\n",
    "    r = 1\n",
    "    while r != 0:\n",
    "        b, r = divmod(a, q0)\n",
    "        a, q0 = q0, r\n",
    "    return a"
   ]
  },
  {
   "cell_type": "code",
   "execution_count": 129,
   "metadata": {},
   "outputs": [
    {
     "data": {
      "text/plain": [
       "5"
      ]
     },
     "execution_count": 129,
     "metadata": {},
     "output_type": "execute_result"
    }
   ],
   "source": [
    "gcd(10,15)"
   ]
  },
  {
   "cell_type": "code",
   "execution_count": 130,
   "metadata": {},
   "outputs": [],
   "source": [
    "class PK:  # представлення PK\n",
    "    def __init__(self, e, n, name=\"\"):\n",
    "        self.e = e\n",
    "        self.n = n\n",
    "        self.name = name\n",
    "\n",
    "    def encrypt(self, message):         #кодування відкритим ключем\n",
    "        return pow_mod(convert_to_cipher(message), self.e, self.n) \n",
    "\n",
    "    def verify(self, message, signature):  #верифікація підпису\n",
    "        int_m = convert_to_cipher(message)\n",
    "        (message)\n",
    "        int_sig = pow_mod(signature, self.e, self.n)\n",
    "        return int_m == int_sig"
   ]
  },
  {
   "cell_type": "code",
   "execution_count": 131,
   "metadata": {},
   "outputs": [],
   "source": [
    "class RSA: #представлення RSA\n",
    "    def __init__(self, length, name=\"\", e=1): \n",
    "        self.__e = e\n",
    "        self.__d = 1\n",
    "        self.__pk = None\n",
    "        self.__name = name\n",
    "        self.__p = generate_prime_number(length)\n",
    "        self.__q = generate_prime_number(length)\n",
    "        self.__n = self.__p * self.__q\n",
    "        self.__F = (self.__p - 1) * (self.__q - 1)\n",
    "        if self.__e == 1:\n",
    "            while self.__F % self.__e == 0:\n",
    "                self.__e = generate_prime_number(length)\n",
    "        self.__d = ext_eucl_pos(self.__F, self.__e)\n",
    "\n",
    "    def get_e(self):  \n",
    "        return self.__e\n",
    "\n",
    "    def get_pk(self):  \n",
    "        if self.__pk is None:\n",
    "            self.__pk = PK(self.get_e(), self.__n, self.__name)\n",
    "        return self.__pk\n",
    "\n",
    "    def get_name(self):\n",
    "        return self.__name\n",
    "\n",
    "    def decrypt(self, c):       # розкодування зашифрованого посилання за допомогою закритого ключа\n",
    "        m = pow_mod(c, self.__d, self.__n)\n",
    "        return convert_to_string(m)\n",
    "\n",
    "    def sign(self, m):  #підпис повідомлення\n",
    "        return pow_mod(convert_to_cipher(m), self.__d, self.__n)\n",
    "    \n",
    "    def send(self, pk, message): #надіслати конкретній людині (pk) підписане повідомлення\n",
    "        signature = self.sign(message)\n",
    "        return pow_mod(signature, pk.e, pk.n)\n",
    "    \n",
    "    def receive(self, pk, encoded): #отримати підписание повідомлення від конкретної людини\n",
    "        full_message = pow_mod(encoded, self.__d, self.__n)\n",
    "        text = convert_to_string(pow_mod(full_message, pk.e, pk.n))\n",
    "        return text"
   ]
  },
  {
   "cell_type": "code",
   "execution_count": 132,
   "metadata": {},
   "outputs": [],
   "source": [
    "Alex = RSA(1000, \"Alex\")\n",
    "pkAlex = Alex.get_pk()"
   ]
  },
  {
   "cell_type": "code",
   "execution_count": 133,
   "metadata": {},
   "outputs": [],
   "source": [
    "Boutros = RSA(1000, \"Boutros\")\n",
    "pkBoutros = Boutros.get_pk()"
   ]
  },
  {
   "cell_type": "code",
   "execution_count": 134,
   "metadata": {
    "scrolled": true
   },
   "outputs": [],
   "source": [
    "x = pkAlex.encrypt(\"Hi, Alex\")"
   ]
  },
  {
   "cell_type": "code",
   "execution_count": 135,
   "metadata": {},
   "outputs": [
    {
     "data": {
      "text/plain": [
       "'Hi, Alex'"
      ]
     },
     "execution_count": 135,
     "metadata": {},
     "output_type": "execute_result"
    }
   ],
   "source": [
    "Alex.decrypt(x)"
   ]
  },
  {
   "cell_type": "code",
   "execution_count": 136,
   "metadata": {},
   "outputs": [],
   "source": [
    "code = Boutros.send(pk=pkAlex, message=\"Hello\")"
   ]
  },
  {
   "cell_type": "code",
   "execution_count": 137,
   "metadata": {},
   "outputs": [
    {
     "data": {
      "text/plain": [
       "'Hello'"
      ]
     },
     "execution_count": 137,
     "metadata": {},
     "output_type": "execute_result"
    }
   ],
   "source": [
    "Alex.receive(pk=pkBoutros, encoded=code)"
   ]
  },
  {
   "cell_type": "code",
   "execution_count": 156,
   "metadata": {},
   "outputs": [],
   "source": [
    "AlexMessage = \"Verifying message\""
   ]
  },
  {
   "cell_type": "code",
   "execution_count": 160,
   "metadata": {
    "scrolled": true
   },
   "outputs": [],
   "source": [
    "AlexMessageSignature = Alex.sign(AlexMessage)"
   ]
  },
  {
   "cell_type": "code",
   "execution_count": 161,
   "metadata": {},
   "outputs": [
    {
     "data": {
      "text/plain": [
       "True"
      ]
     },
     "execution_count": 161,
     "metadata": {},
     "output_type": "execute_result"
    }
   ],
   "source": [
    "pkAlex.verify(AlexMessage, AlexMessageSignature)"
   ]
  },
  {
   "cell_type": "code",
   "execution_count": 138,
   "metadata": {},
   "outputs": [],
   "source": [
    "# китайська теорема про лишки\n",
    "def chin(m, b):\n",
    "    res = 0\n",
    "    Mult_all = 1\n",
    "    for mi in m:\n",
    "        Mult_all = Mult_all * mi\n",
    "\n",
    "    for i in range(len(b)):\n",
    "        M = int(Mult_all // m[i])\n",
    "        delta = ext_eucl_pos(m[i], M)\n",
    "        res += M * delta * b[i] % Mult_all\n",
    "    return res % Mult_all"
   ]
  },
  {
   "cell_type": "code",
   "execution_count": 139,
   "metadata": {},
   "outputs": [],
   "source": [
    "class Group:                #група\n",
    "    def __init__(self, *argv):  \n",
    "        self.__list = []\n",
    "        self.__list.extend(argv)\n",
    "\n",
    "    def add(self, pk):   \n",
    "        for pki in self.__list:\n",
    "            if pki == pk:\n",
    "                return True\n",
    "            if gcd(pki.n, pk.n) != 1:\n",
    "                return False\n",
    "        self.__list.append(pk)\n",
    "        return True\n",
    "\n",
    "    def remove(self, pk):       \n",
    "        if pk in self.__list:\n",
    "            self.__list.remove(pk)\n",
    "\n",
    "    def get(self):             \n",
    "        return self.__list.copy()\n",
    "\n",
    "    def sendToAll(self, message, sender):     #надіслати всім повідомлення\n",
    "        codes = []\n",
    "        modules = []\n",
    "        for member in self.__list:\n",
    "            codes.append(sender.send(member, message))   \n",
    "            modules.append(member.n)                       \n",
    "        return chin(modules, codes)     "
   ]
  },
  {
   "cell_type": "code",
   "execution_count": 140,
   "metadata": {},
   "outputs": [],
   "source": [
    "Participant1 = RSA(name='Participant1', length=1000)\n",
    "pkP1 = Participant1.get_pk()"
   ]
  },
  {
   "cell_type": "code",
   "execution_count": 143,
   "metadata": {},
   "outputs": [],
   "source": [
    "Participant2 = RSA(name='Participant2', length=1000)\n",
    "pkP2 = Participant2.get_pk()"
   ]
  },
  {
   "cell_type": "code",
   "execution_count": 144,
   "metadata": {},
   "outputs": [],
   "source": [
    "Participant3 = RSA(name='Participant3', length=1000)\n",
    "pkP3 = Participant3.get_pk()"
   ]
  },
  {
   "cell_type": "code",
   "execution_count": 145,
   "metadata": {},
   "outputs": [],
   "source": [
    "AlexGroup = Group(pkP1,pkP2,pkP3)"
   ]
  },
  {
   "cell_type": "code",
   "execution_count": 146,
   "metadata": {
    "scrolled": false
   },
   "outputs": [],
   "source": [
    "AlexMsg = AlexGroup.sendToAll(sender=Alex, message='Hi guys!')"
   ]
  },
  {
   "cell_type": "code",
   "execution_count": 147,
   "metadata": {},
   "outputs": [
    {
     "data": {
      "text/plain": [
       "'Hi guys!'"
      ]
     },
     "execution_count": 147,
     "metadata": {},
     "output_type": "execute_result"
    }
   ],
   "source": [
    "Participant1.receive(encoded=AlexMsg, pk=pkAlex)"
   ]
  },
  {
   "cell_type": "code",
   "execution_count": 148,
   "metadata": {},
   "outputs": [
    {
     "data": {
      "text/plain": [
       "'Hi guys!'"
      ]
     },
     "execution_count": 148,
     "metadata": {},
     "output_type": "execute_result"
    }
   ],
   "source": [
    "Participant2.receive(encoded=AlexMsg, pk=pkAlex)"
   ]
  },
  {
   "cell_type": "code",
   "execution_count": 149,
   "metadata": {},
   "outputs": [
    {
     "data": {
      "text/plain": [
       "'Hi guys!'"
      ]
     },
     "execution_count": 149,
     "metadata": {},
     "output_type": "execute_result"
    }
   ],
   "source": [
    "Participant3.receive(encoded=AlexMsg, pk=pkAlex)"
   ]
  },
  {
   "cell_type": "code",
   "execution_count": 150,
   "metadata": {},
   "outputs": [],
   "source": [
    "AlexGroup.remove(pkP2)"
   ]
  },
  {
   "cell_type": "code",
   "execution_count": 151,
   "metadata": {},
   "outputs": [
    {
     "data": {
      "text/plain": [
       "[<__main__.PK at 0x1f7ad175438>, <__main__.PK at 0x1f7ad175f98>]"
      ]
     },
     "execution_count": 151,
     "metadata": {},
     "output_type": "execute_result"
    }
   ],
   "source": [
    "AlexGroup.get()"
   ]
  },
  {
   "cell_type": "code",
   "execution_count": 152,
   "metadata": {},
   "outputs": [],
   "source": [
    "AlexMsg2 = AlexGroup.sendToAll(sender=Alex, message='Hi guys again, but not P2!')"
   ]
  },
  {
   "cell_type": "code",
   "execution_count": 153,
   "metadata": {},
   "outputs": [
    {
     "data": {
      "text/plain": [
       "'Hi guys again, but not P2!'"
      ]
     },
     "execution_count": 153,
     "metadata": {},
     "output_type": "execute_result"
    }
   ],
   "source": [
    "Participant1.receive(encoded=AlexMsg2, pk=pkAlex)"
   ]
  },
  {
   "cell_type": "code",
   "execution_count": 154,
   "metadata": {},
   "outputs": [
    {
     "data": {
      "text/plain": [
       "'\\x17/͉ȿ\\x7f˫̃\\x8c2Ǫ̈́ʶǤͫϠ̓ʓÜÔ\\x00\\nęʹ͵ɽģ-ǼȘξ¤\\x03ΦǞˣɞʞ̦ˤɑłϦ\\x8fŸ«͍_ʸƻ͢ʵ=\\x96ƿʝϞˀϊÙé¨ɺ]ƌ˱ϗƐʭ³¼ǹʣǄǑă!̳Ǫ§\\x80ː\\x9bĔ̘Țȕåǫȓή˧Ƈͼκ͌¼ʈƽƔʓϜƧ̒ƤȎ\\x18ǃƮ˸͘\\u03a2̼Ïͺz\\xadĶɗ˿o˞DEċ\\x0f̭ŒΥLu˵éɜ̻¨ƟƋͱ͙đ\\rjý!zǗω̶dţ͞ƖȅÙáȼʯaSų˰̐óʅȃȊåęĭ͏˅@ųĤŃǴyǴͷ˱{ˮ̝τŌ̊\\x1bËĬƷȚÍ˻i^ͼ4ô͚Ñ\\t'"
      ]
     },
     "execution_count": 154,
     "metadata": {},
     "output_type": "execute_result"
    }
   ],
   "source": [
    "Participant2.receive(encoded=AlexMsg2, pk=pkAlex)"
   ]
  },
  {
   "cell_type": "code",
   "execution_count": 155,
   "metadata": {},
   "outputs": [
    {
     "data": {
      "text/plain": [
       "'Hi guys again, but not P2!'"
      ]
     },
     "execution_count": 155,
     "metadata": {},
     "output_type": "execute_result"
    }
   ],
   "source": [
    "Participant3.receive(encoded=AlexMsg2, pk=pkAlex)"
   ]
  },
  {
   "cell_type": "code",
   "execution_count": null,
   "metadata": {},
   "outputs": [],
   "source": []
  }
 ],
 "metadata": {
  "kernelspec": {
   "display_name": "Python 3",
   "language": "python",
   "name": "python3"
  },
  "language_info": {
   "codemirror_mode": {
    "name": "ipython",
    "version": 3
   },
   "file_extension": ".py",
   "mimetype": "text/x-python",
   "name": "python",
   "nbconvert_exporter": "python",
   "pygments_lexer": "ipython3",
   "version": "3.6.6"
  }
 },
 "nbformat": 4,
 "nbformat_minor": 2
}
